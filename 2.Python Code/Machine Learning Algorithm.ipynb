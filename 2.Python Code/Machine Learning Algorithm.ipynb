{
 "cells": [
  {
   "cell_type": "code",
   "execution_count": 1,
   "id": "5722adfd",
   "metadata": {},
   "outputs": [],
   "source": [
    "# importing libraries\n",
    "\n",
    "import pandas as pd\n",
    "import seaborn as sns\n",
    "import matplotlib.pyplot as plt\n",
    "from sklearn.preprocessing import MinMaxScaler\n",
    "from sklearn.model_selection import train_test_split\n",
    "\n",
    "# Set the display options to show all rows\n",
    "pd.set_option('display.max_rows', None)"
   ]
  },
  {
   "cell_type": "code",
   "execution_count": 2,
   "id": "01b925fa",
   "metadata": {},
   "outputs": [],
   "source": [
    "# importing dataset\n",
    "\n",
    "dataset = pd.read_csv('supermarket_sales - Sheet1.csv')"
   ]
  },
  {
   "cell_type": "code",
   "execution_count": 3,
   "id": "423e902c",
   "metadata": {},
   "outputs": [
    {
     "data": {
      "text/plain": [
       "89"
      ]
     },
     "execution_count": 3,
     "metadata": {},
     "output_type": "execute_result"
    }
   ],
   "source": [
    "dataset.Date.nunique()"
   ]
  },
  {
   "cell_type": "code",
   "execution_count": 4,
   "id": "49371f8d",
   "metadata": {},
   "outputs": [],
   "source": [
    "df = dataset.copy()"
   ]
  },
  {
   "cell_type": "code",
   "execution_count": 5,
   "id": "baf176d9",
   "metadata": {},
   "outputs": [],
   "source": [
    "df.columns = df.columns = ['Invoice ID', 'Branch', 'City', 'Customer type', 'Gender',\n",
    "       'Product line', 'Unit price', 'Quantity', 'Tax 5%', 'Sales', 'Date',\n",
    "       'Time', 'Payment', 'cogs', 'gross margin percentage', 'gross income',\n",
    "       'Rating']"
   ]
  },
  {
   "cell_type": "code",
   "execution_count": 6,
   "id": "fd9f150e",
   "metadata": {},
   "outputs": [
    {
     "data": {
      "text/html": [
       "<div>\n",
       "<style scoped>\n",
       "    .dataframe tbody tr th:only-of-type {\n",
       "        vertical-align: middle;\n",
       "    }\n",
       "\n",
       "    .dataframe tbody tr th {\n",
       "        vertical-align: top;\n",
       "    }\n",
       "\n",
       "    .dataframe thead th {\n",
       "        text-align: right;\n",
       "    }\n",
       "</style>\n",
       "<table border=\"1\" class=\"dataframe\">\n",
       "  <thead>\n",
       "    <tr style=\"text-align: right;\">\n",
       "      <th></th>\n",
       "      <th>Invoice ID</th>\n",
       "      <th>Branch</th>\n",
       "      <th>City</th>\n",
       "      <th>Customer type</th>\n",
       "      <th>Gender</th>\n",
       "      <th>Product line</th>\n",
       "      <th>Unit price</th>\n",
       "      <th>Quantity</th>\n",
       "      <th>Tax 5%</th>\n",
       "      <th>Sales</th>\n",
       "      <th>Date</th>\n",
       "      <th>Time</th>\n",
       "      <th>Payment</th>\n",
       "      <th>cogs</th>\n",
       "      <th>gross margin percentage</th>\n",
       "      <th>gross income</th>\n",
       "      <th>Rating</th>\n",
       "    </tr>\n",
       "  </thead>\n",
       "  <tbody>\n",
       "    <tr>\n",
       "      <th>0</th>\n",
       "      <td>750-67-8428</td>\n",
       "      <td>A</td>\n",
       "      <td>Yangon</td>\n",
       "      <td>Member</td>\n",
       "      <td>Female</td>\n",
       "      <td>Health and beauty</td>\n",
       "      <td>74.69</td>\n",
       "      <td>7</td>\n",
       "      <td>26.1415</td>\n",
       "      <td>548.9715</td>\n",
       "      <td>1/5/2019</td>\n",
       "      <td>13:08</td>\n",
       "      <td>Ewallet</td>\n",
       "      <td>522.83</td>\n",
       "      <td>4.761905</td>\n",
       "      <td>26.1415</td>\n",
       "      <td>9.1</td>\n",
       "    </tr>\n",
       "    <tr>\n",
       "      <th>1</th>\n",
       "      <td>226-31-3081</td>\n",
       "      <td>C</td>\n",
       "      <td>Naypyitaw</td>\n",
       "      <td>Normal</td>\n",
       "      <td>Female</td>\n",
       "      <td>Electronic accessories</td>\n",
       "      <td>15.28</td>\n",
       "      <td>5</td>\n",
       "      <td>3.8200</td>\n",
       "      <td>80.2200</td>\n",
       "      <td>3/8/2019</td>\n",
       "      <td>10:29</td>\n",
       "      <td>Cash</td>\n",
       "      <td>76.40</td>\n",
       "      <td>4.761905</td>\n",
       "      <td>3.8200</td>\n",
       "      <td>9.6</td>\n",
       "    </tr>\n",
       "    <tr>\n",
       "      <th>2</th>\n",
       "      <td>631-41-3108</td>\n",
       "      <td>A</td>\n",
       "      <td>Yangon</td>\n",
       "      <td>Normal</td>\n",
       "      <td>Male</td>\n",
       "      <td>Home and lifestyle</td>\n",
       "      <td>46.33</td>\n",
       "      <td>7</td>\n",
       "      <td>16.2155</td>\n",
       "      <td>340.5255</td>\n",
       "      <td>3/3/2019</td>\n",
       "      <td>13:23</td>\n",
       "      <td>Credit card</td>\n",
       "      <td>324.31</td>\n",
       "      <td>4.761905</td>\n",
       "      <td>16.2155</td>\n",
       "      <td>7.4</td>\n",
       "    </tr>\n",
       "  </tbody>\n",
       "</table>\n",
       "</div>"
      ],
      "text/plain": [
       "    Invoice ID Branch       City Customer type  Gender  \\\n",
       "0  750-67-8428      A     Yangon        Member  Female   \n",
       "1  226-31-3081      C  Naypyitaw        Normal  Female   \n",
       "2  631-41-3108      A     Yangon        Normal    Male   \n",
       "\n",
       "             Product line  Unit price  Quantity   Tax 5%     Sales      Date  \\\n",
       "0       Health and beauty       74.69         7  26.1415  548.9715  1/5/2019   \n",
       "1  Electronic accessories       15.28         5   3.8200   80.2200  3/8/2019   \n",
       "2      Home and lifestyle       46.33         7  16.2155  340.5255  3/3/2019   \n",
       "\n",
       "    Time      Payment    cogs  gross margin percentage  gross income  Rating  \n",
       "0  13:08      Ewallet  522.83                 4.761905       26.1415     9.1  \n",
       "1  10:29         Cash   76.40                 4.761905        3.8200     9.6  \n",
       "2  13:23  Credit card  324.31                 4.761905       16.2155     7.4  "
      ]
     },
     "execution_count": 6,
     "metadata": {},
     "output_type": "execute_result"
    }
   ],
   "source": [
    "df.head(3)"
   ]
  },
  {
   "cell_type": "code",
   "execution_count": 7,
   "id": "4e011f6e",
   "metadata": {},
   "outputs": [
    {
     "name": "stdout",
     "output_type": "stream",
     "text": [
      "   Branch Counts  City Counts\n",
      "0            340          340\n",
      "1            332          332\n",
      "2            328          328\n"
     ]
    }
   ],
   "source": [
    "branch_counts = df['Branch'].value_counts().reset_index(drop=True)\n",
    "city_counts = df['City'].value_counts().reset_index(drop=True)\n",
    "\n",
    "counts_df = pd.concat([branch_counts, city_counts], axis=1)\n",
    "counts_df.columns = ['Branch Counts', 'City Counts']\n",
    "\n",
    "print(counts_df)"
   ]
  },
  {
   "cell_type": "code",
   "execution_count": 8,
   "id": "d98efe99",
   "metadata": {},
   "outputs": [
    {
     "data": {
      "image/png": "[encoded data removed]",
      "text/plain": [
       "<Figure size 640x480 with 2 Axes>"
      ]
     },
     "metadata": {},
     "output_type": "display_data"
    }
   ],
   "source": [
    "correlation_matrix = df.corr()\n",
    "sns.heatmap(correlation_matrix, annot=True, cmap='coolwarm', square=True)\n",
    "plt.title('Correlation Matrix Heatmap')\n",
    "plt.show()"
   ]
  },
  {
   "cell_type": "code",
   "execution_count": 9,
   "id": "14657da0",
   "metadata": {},
   "outputs": [
    {
     "data": {
      "text/plain": [
       "Index(['Invoice ID', 'Branch', 'City', 'Customer type', 'Gender',\n",
       "       'Product line', 'Unit price', 'Quantity', 'Tax 5%', 'Sales', 'Date',\n",
       "       'Time', 'Payment', 'cogs', 'gross margin percentage', 'gross income',\n",
       "       'Rating'],\n",
       "      dtype='object')"
      ]
     },
     "execution_count": 9,
     "metadata": {},
     "output_type": "execute_result"
    }
   ],
   "source": [
    "df.columns"
   ]
  },
  {
   "cell_type": "markdown",
   "id": "5af64dfa",
   "metadata": {},
   "source": [
    "1.'Invoice ID' has been dropped because it consists of unique values, providing no significant insights for our analysis.\n",
    "2.'City' has been removed since it is redundant with the 'Branch' column, which already captures the location information.\n",
    "3.'Gross margin percentage' has been excluded as it has a constant value across all observations, offering no variability or informative content.\n",
    "4.'Time' and 'Rating' columns have been deemed unnecessary for our analysis and thus have been omitted.\n",
    "5.'Tax 5%', 'COGS' (Cost of Goods Sold), 'Gross Margin Percentage', and 'Gross Income' have been dropped as they are redundant with the 'Sales' column, which already encapsulates the necessary information related to these variables."
   ]
  },
  {
   "cell_type": "code",
   "execution_count": 10,
   "id": "fc7f500b",
   "metadata": {},
   "outputs": [],
   "source": [
    "df= df.drop(columns=['Invoice ID','City','Tax 5%','Time','cogs','gross margin percentage','gross income','Rating'])"
   ]
  },
  {
   "cell_type": "code",
   "execution_count": 11,
   "id": "eaacb88e",
   "metadata": {},
   "outputs": [
    {
     "data": {
      "text/plain": [
       "Index(['Branch', 'Customer type', 'Gender', 'Product line', 'Unit price',\n",
       "       'Quantity', 'Sales', 'Date', 'Payment'],\n",
       "      dtype='object')"
      ]
     },
     "execution_count": 11,
     "metadata": {},
     "output_type": "execute_result"
    }
   ],
   "source": [
    "df.columns"
   ]
  },
  {
   "cell_type": "code",
   "execution_count": 12,
   "id": "c6cf49f4",
   "metadata": {},
   "outputs": [],
   "source": [
    "def Categories(i):\n",
    "    i = i.lower()\n",
    "    if (i == 'health and beauty') or (i == 'electronic accessories'):\n",
    "        i = 'Health and Beauty / Electronic Accessories'\n",
    "    elif (i == 'home and lifestyle') or (i == 'sports and travel'):\n",
    "        i = 'Home and Lifestyle / Sports and Travel'\n",
    "    elif (i == 'food and beverages') or (i == 'fashion accessories'):\n",
    "        i = 'Food and Beverages / Fashion Accessories'\n",
    "    return i"
   ]
  },
  {
   "cell_type": "code",
   "execution_count": 13,
   "id": "67bdb120",
   "metadata": {},
   "outputs": [],
   "source": [
    "df['Product line'] = df['Product line'].apply(Categories)"
   ]
  },
  {
   "cell_type": "code",
   "execution_count": 14,
   "id": "a5f072f4",
   "metadata": {},
   "outputs": [],
   "source": [
    "df['Date'] = df['Date'].apply(lambda x:x[0])"
   ]
  },
  {
   "cell_type": "markdown",
   "id": "49a46ba5",
   "metadata": {},
   "source": [
    "## Outliers"
   ]
  },
  {
   "cell_type": "code",
   "execution_count": 15,
   "id": "d2aa74cb",
   "metadata": {},
   "outputs": [
    {
     "data": {
      "image/png": "[encoded data removed]",
      "text/plain": [
       "<Figure size 800x600 with 1 Axes>"
      ]
     },
     "metadata": {},
     "output_type": "display_data"
    }
   ],
   "source": [
    "# Checking outliers on 'Sales'\n",
    "\n",
    "plt.figure(figsize=(8, 6))\n",
    "plt.boxplot(df['Sales'])\n",
    "plt.xlabel('Sales')\n",
    "plt.ylabel('Value')\n",
    "plt.title('Box Plot of Sales')\n",
    "plt.show()"
   ]
  },
  {
   "cell_type": "code",
   "execution_count": 16,
   "id": "a6a9a2d8",
   "metadata": {},
   "outputs": [],
   "source": [
    "# Removing Outliers\n",
    "df = df[df['Sales'] < 950]"
   ]
  },
  {
   "cell_type": "code",
   "execution_count": 17,
   "id": "54973737",
   "metadata": {},
   "outputs": [
    {
     "data": {
      "text/html": [
       "<div>\n",
       "<style scoped>\n",
       "    .dataframe tbody tr th:only-of-type {\n",
       "        vertical-align: middle;\n",
       "    }\n",
       "\n",
       "    .dataframe tbody tr th {\n",
       "        vertical-align: top;\n",
       "    }\n",
       "\n",
       "    .dataframe thead th {\n",
       "        text-align: right;\n",
       "    }\n",
       "</style>\n",
       "<table border=\"1\" class=\"dataframe\">\n",
       "  <thead>\n",
       "    <tr style=\"text-align: right;\">\n",
       "      <th></th>\n",
       "      <th>Unit price</th>\n",
       "      <th>Quantity</th>\n",
       "      <th>Sales</th>\n",
       "    </tr>\n",
       "  </thead>\n",
       "  <tbody>\n",
       "    <tr>\n",
       "      <th>Unit price</th>\n",
       "      <td>1.000000</td>\n",
       "      <td>-0.015807</td>\n",
       "      <td>0.621733</td>\n",
       "    </tr>\n",
       "    <tr>\n",
       "      <th>Quantity</th>\n",
       "      <td>-0.015807</td>\n",
       "      <td>1.000000</td>\n",
       "      <td>0.697619</td>\n",
       "    </tr>\n",
       "    <tr>\n",
       "      <th>Sales</th>\n",
       "      <td>0.621733</td>\n",
       "      <td>0.697619</td>\n",
       "      <td>1.000000</td>\n",
       "    </tr>\n",
       "  </tbody>\n",
       "</table>\n",
       "</div>"
      ],
      "text/plain": [
       "            Unit price  Quantity     Sales\n",
       "Unit price    1.000000 -0.015807  0.621733\n",
       "Quantity     -0.015807  1.000000  0.697619\n",
       "Sales         0.621733  0.697619  1.000000"
      ]
     },
     "execution_count": 17,
     "metadata": {},
     "output_type": "execute_result"
    }
   ],
   "source": [
    "df.corr()"
   ]
  },
  {
   "cell_type": "code",
   "execution_count": 18,
   "id": "5a2021d8",
   "metadata": {},
   "outputs": [
    {
     "data": {
      "image/png": "[encoded data removed]",
      "text/plain": [
       "<Figure size 500x250 with 2 Axes>"
      ]
     },
     "metadata": {},
     "output_type": "display_data"
    }
   ],
   "source": [
    "import seaborn as sns\n",
    "import matplotlib.pyplot as plt\n",
    "\n",
    "# Assuming 'df' is your DataFrame with the relevant columns\n",
    "\n",
    "# Specify the columns for correlation analysis\n",
    "columns = ['Unit price', 'Quantity', 'Sales']\n",
    "\n",
    "# Select the columns of interest\n",
    "data = df[columns]\n",
    "\n",
    "# Create a pairplot using seaborn\n",
    "sns.pairplot(data=data, y_vars=['Sales'], x_vars=['Unit price', 'Quantity'])\n",
    "\n",
    "# Set plot title\n",
    "plt.suptitle('Correlation Scatter Plots')\n",
    "\n",
    "# Show the plot\n",
    "plt.show()\n"
   ]
  },
  {
   "cell_type": "code",
   "execution_count": 19,
   "id": "38d24cf8",
   "metadata": {},
   "outputs": [
    {
     "data": {
      "image/png": "[encoded data removed]",
      "text/plain": [
       "<Figure size 640x480 with 2 Axes>"
      ]
     },
     "metadata": {},
     "output_type": "display_data"
    }
   ],
   "source": [
    "correlation_matrix = df.corr()\n",
    "sns.heatmap(correlation_matrix, annot=True, cmap='coolwarm', square=True)\n",
    "plt.title('Correlation Matrix Heatmap')\n",
    "plt.show()"
   ]
  },
  {
   "cell_type": "code",
   "execution_count": 20,
   "id": "1a7551f9",
   "metadata": {},
   "outputs": [],
   "source": [
    "# Separate the features and target\n",
    "X = df.drop('Sales', axis=1)  # Features (categorical and numerical columns)\n",
    "y = df['Sales']  # Target column"
   ]
  },
  {
   "cell_type": "code",
   "execution_count": 21,
   "id": "ffa3cda1",
   "metadata": {},
   "outputs": [],
   "source": [
    "# Perform standardization on numerical columns\n",
    "\n",
    "numerical_cols = X.select_dtypes(include=['float', 'int']).columns\n",
    "scaler = MinMaxScaler()\n",
    "X[numerical_cols] = scaler.fit_transform(X[numerical_cols])"
   ]
  },
  {
   "cell_type": "code",
   "execution_count": 22,
   "id": "ebec49dc",
   "metadata": {},
   "outputs": [],
   "source": [
    "# Perform one-hot encoding on categorical columns\n",
    "\n",
    "categorical_cols = X.select_dtypes(include=['object']).columns\n",
    "X = pd.get_dummies(X, columns=categorical_cols, drop_first=True)"
   ]
  },
  {
   "cell_type": "code",
   "execution_count": 23,
   "id": "93816579",
   "metadata": {},
   "outputs": [
    {
     "name": "stdout",
     "output_type": "stream",
     "text": [
      "X_train shape: (791, 12)\n",
      "X_test shape: (198, 12)\n",
      "y_train shape: (791,)\n",
      "y_test shape: (198,)\n"
     ]
    }
   ],
   "source": [
    "# Perform train-test split\n",
    "X_train, X_test, y_train, y_test = train_test_split(X, y, test_size=0.20, random_state=1234)\n",
    "\n",
    "# Print the shapes of the resulting data splits\n",
    "print(\"X_train shape:\", X_train.shape)\n",
    "print(\"X_test shape:\", X_test.shape)\n",
    "print(\"y_train shape:\", y_train.shape)\n",
    "print(\"y_test shape:\", y_test.shape)"
   ]
  },
  {
   "cell_type": "code",
   "execution_count": 24,
   "id": "770dff1b",
   "metadata": {},
   "outputs": [
    {
     "data": {
      "text/html": [
       "<div>\n",
       "<style scoped>\n",
       "    .dataframe tbody tr th:only-of-type {\n",
       "        vertical-align: middle;\n",
       "    }\n",
       "\n",
       "    .dataframe tbody tr th {\n",
       "        vertical-align: top;\n",
       "    }\n",
       "\n",
       "    .dataframe thead th {\n",
       "        text-align: right;\n",
       "    }\n",
       "</style>\n",
       "<table border=\"1\" class=\"dataframe\">\n",
       "  <thead>\n",
       "    <tr style=\"text-align: right;\">\n",
       "      <th></th>\n",
       "      <th>Unit price</th>\n",
       "      <th>Quantity</th>\n",
       "      <th>Branch_B</th>\n",
       "      <th>Branch_C</th>\n",
       "      <th>Customer type_Normal</th>\n",
       "      <th>Gender_Male</th>\n",
       "      <th>Product line_Health and Beauty / Electronic Accessories</th>\n",
       "      <th>Product line_Home and Lifestyle / Sports and Travel</th>\n",
       "      <th>Date_2</th>\n",
       "      <th>Date_3</th>\n",
       "      <th>Payment_Credit card</th>\n",
       "      <th>Payment_Ewallet</th>\n",
       "    </tr>\n",
       "  </thead>\n",
       "  <tbody>\n",
       "    <tr>\n",
       "      <th>0</th>\n",
       "      <td>0.718847</td>\n",
       "      <td>0.666667</td>\n",
       "      <td>0</td>\n",
       "      <td>0</td>\n",
       "      <td>0</td>\n",
       "      <td>0</td>\n",
       "      <td>1</td>\n",
       "      <td>0</td>\n",
       "      <td>0</td>\n",
       "      <td>0</td>\n",
       "      <td>0</td>\n",
       "      <td>1</td>\n",
       "    </tr>\n",
       "    <tr>\n",
       "      <th>1</th>\n",
       "      <td>0.057855</td>\n",
       "      <td>0.444444</td>\n",
       "      <td>0</td>\n",
       "      <td>1</td>\n",
       "      <td>1</td>\n",
       "      <td>0</td>\n",
       "      <td>1</td>\n",
       "      <td>0</td>\n",
       "      <td>0</td>\n",
       "      <td>1</td>\n",
       "      <td>0</td>\n",
       "      <td>0</td>\n",
       "    </tr>\n",
       "    <tr>\n",
       "      <th>2</th>\n",
       "      <td>0.403316</td>\n",
       "      <td>0.666667</td>\n",
       "      <td>0</td>\n",
       "      <td>0</td>\n",
       "      <td>1</td>\n",
       "      <td>1</td>\n",
       "      <td>0</td>\n",
       "      <td>1</td>\n",
       "      <td>0</td>\n",
       "      <td>1</td>\n",
       "      <td>1</td>\n",
       "      <td>0</td>\n",
       "    </tr>\n",
       "    <tr>\n",
       "      <th>3</th>\n",
       "      <td>0.535603</td>\n",
       "      <td>0.777778</td>\n",
       "      <td>0</td>\n",
       "      <td>0</td>\n",
       "      <td>0</td>\n",
       "      <td>1</td>\n",
       "      <td>1</td>\n",
       "      <td>0</td>\n",
       "      <td>0</td>\n",
       "      <td>0</td>\n",
       "      <td>0</td>\n",
       "      <td>1</td>\n",
       "    </tr>\n",
       "    <tr>\n",
       "      <th>4</th>\n",
       "      <td>0.848131</td>\n",
       "      <td>0.666667</td>\n",
       "      <td>0</td>\n",
       "      <td>0</td>\n",
       "      <td>1</td>\n",
       "      <td>1</td>\n",
       "      <td>0</td>\n",
       "      <td>1</td>\n",
       "      <td>1</td>\n",
       "      <td>0</td>\n",
       "      <td>0</td>\n",
       "      <td>1</td>\n",
       "    </tr>\n",
       "  </tbody>\n",
       "</table>\n",
       "</div>"
      ],
      "text/plain": [
       "   Unit price  Quantity  Branch_B  Branch_C  Customer type_Normal  \\\n",
       "0    0.718847  0.666667         0         0                     0   \n",
       "1    0.057855  0.444444         0         1                     1   \n",
       "2    0.403316  0.666667         0         0                     1   \n",
       "3    0.535603  0.777778         0         0                     0   \n",
       "4    0.848131  0.666667         0         0                     1   \n",
       "\n",
       "   Gender_Male  Product line_Health and Beauty / Electronic Accessories  \\\n",
       "0            0                                                  1         \n",
       "1            0                                                  1         \n",
       "2            1                                                  0         \n",
       "3            1                                                  1         \n",
       "4            1                                                  0         \n",
       "\n",
       "   Product line_Home and Lifestyle / Sports and Travel  Date_2  Date_3  \\\n",
       "0                                                  0         0       0   \n",
       "1                                                  0         0       1   \n",
       "2                                                  1         0       1   \n",
       "3                                                  0         0       0   \n",
       "4                                                  1         1       0   \n",
       "\n",
       "   Payment_Credit card  Payment_Ewallet  \n",
       "0                    0                1  \n",
       "1                    0                0  \n",
       "2                    1                0  \n",
       "3                    0                1  \n",
       "4                    0                1  "
      ]
     },
     "execution_count": 24,
     "metadata": {},
     "output_type": "execute_result"
    }
   ],
   "source": [
    "X.head()"
   ]
  },
  {
   "cell_type": "markdown",
   "id": "966c1ca3",
   "metadata": {},
   "source": [
    "## Linear Regression"
   ]
  },
  {
   "cell_type": "code",
   "execution_count": 25,
   "id": "7bf2393c",
   "metadata": {},
   "outputs": [
    {
     "name": "stdout",
     "output_type": "stream",
     "text": [
      "coef [512.93244045 521.36907283  -4.0560149    0.70550708   4.69119564\n",
      "  -1.34642     -0.99505585  -2.28731985  -8.07344636   5.13465343\n",
      "   3.84093229  -2.03065671]\n",
      "intercept -196.81232666480577\n",
      "rscore 0.8515996164897406\n"
     ]
    }
   ],
   "source": [
    "from sklearn.linear_model import LinearRegression\n",
    "\n",
    "regressor = LinearRegression()\n",
    "regressor.fit(X_train,y_train)\n",
    "\n",
    "y_predict = regressor.predict(X_test)\n",
    "\n",
    "coef = regressor.coef_\n",
    "intercept = regressor.intercept_\n",
    "lrrscore = regressor.score(X_test, y_test)\n",
    "\n",
    "print('coef',coef)\n",
    "print('intercept',intercept)\n",
    "print('rscore',lrrscore)"
   ]
  },
  {
   "cell_type": "code",
   "execution_count": 26,
   "id": "61c740e7",
   "metadata": {},
   "outputs": [
    {
     "data": {
      "text/plain": [
       "0.8419736456674535"
      ]
     },
     "execution_count": 26,
     "metadata": {},
     "output_type": "execute_result"
    }
   ],
   "source": [
    "lr_adjusted_r_squared = 1 - (1 - regressor.score(X_test, y_test)) * (len(y_test) - 1) / (len(y_test) - X_test.shape[1] - 1)\n",
    "lr_adjusted_r_squared"
   ]
  },
  {
   "cell_type": "code",
   "execution_count": 27,
   "id": "9e9246a1",
   "metadata": {},
   "outputs": [
    {
     "data": {
      "text/plain": [
       "86.63222153858523"
      ]
     },
     "execution_count": 27,
     "metadata": {},
     "output_type": "execute_result"
    }
   ],
   "source": [
    "# Calculate the errors using RMSE\n",
    "from sklearn.metrics import mean_squared_error\n",
    "import math\n",
    "mlr_rmse = math.sqrt(mean_squared_error(y_test, y_predict))\n",
    "mlr_rmse"
   ]
  },
  {
   "cell_type": "markdown",
   "id": "172dde89",
   "metadata": {},
   "source": [
    "## Decision Tree Regressor"
   ]
  },
  {
   "cell_type": "code",
   "execution_count": 28,
   "id": "48499351",
   "metadata": {},
   "outputs": [
    {
     "data": {
      "text/plain": [
       "0.998050314937326"
      ]
     },
     "execution_count": 28,
     "metadata": {},
     "output_type": "execute_result"
    }
   ],
   "source": [
    "from sklearn.tree import DecisionTreeRegressor\n",
    "dtc = DecisionTreeRegressor(random_state=1234)\n",
    "dtc.fit(X_train, y_train)\n",
    "\n",
    "# Test the model\n",
    "y_predict = dtc.predict(X_test)\n",
    "\n",
    "dtrrscore = dtc.score(X_test, y_test)\n",
    "dtrrscore"
   ]
  },
  {
   "cell_type": "code",
   "execution_count": 29,
   "id": "740f7e19",
   "metadata": {},
   "outputs": [
    {
     "data": {
      "text/plain": [
       "9.929883924868589"
      ]
     },
     "execution_count": 29,
     "metadata": {},
     "output_type": "execute_result"
    }
   ],
   "source": [
    "# Calculate the errors using RMSE\n",
    "from sklearn.metrics import mean_squared_error\n",
    "import math\n",
    "dtr_rmse = math.sqrt(mean_squared_error(y_test, y_predict))\n",
    "dtr_rmse"
   ]
  },
  {
   "cell_type": "code",
   "execution_count": 30,
   "id": "91808963",
   "metadata": {},
   "outputs": [
    {
     "data": {
      "text/plain": [
       "0.9979238488792066"
      ]
     },
     "execution_count": 30,
     "metadata": {},
     "output_type": "execute_result"
    }
   ],
   "source": [
    "# Calulate Adjusted r Square\n",
    "dtr_adjusted_r_squared = 1 - (1 - dtc.score(X_test, y_test)) * (len(y_test) - 1) / (len(y_test) - X_test.shape[1] - 1)\n",
    "dtr_adjusted_r_squared"
   ]
  },
  {
   "cell_type": "markdown",
   "id": "2b219940",
   "metadata": {},
   "source": [
    "## Random Forest Regressor"
   ]
  },
  {
   "cell_type": "code",
   "execution_count": 31,
   "id": "a69bc7ad",
   "metadata": {},
   "outputs": [
    {
     "name": "stdout",
     "output_type": "stream",
     "text": [
      "R-squared score: 0.9987149085527696\n"
     ]
    }
   ],
   "source": [
    "from sklearn.ensemble import RandomForestRegressor\n",
    "\n",
    "# Create a Random Forest regressor object\n",
    "rf = RandomForestRegressor(random_state=1234)\n",
    "\n",
    "# Fit the regressor on the training data\n",
    "rf.fit(X_train, y_train)\n",
    "\n",
    "# Predict on the test data\n",
    "y_predict = rf.predict(X_test)\n",
    "\n",
    "from sklearn.metrics import r2_score\n",
    "\n",
    "# Calculate the R-squared score\n",
    "rfrr2 = r2_score(y_test, y_predict)\n",
    "\n",
    "print(\"R-squared score:\", rfrr2)"
   ]
  },
  {
   "cell_type": "code",
   "execution_count": 32,
   "id": "658160b4",
   "metadata": {},
   "outputs": [
    {
     "data": {
      "text/plain": [
       "8.061743131335707"
      ]
     },
     "execution_count": 32,
     "metadata": {},
     "output_type": "execute_result"
    }
   ],
   "source": [
    "# Calculate the errors using RMSE\n",
    "from sklearn.metrics import mean_squared_error\n",
    "import math\n",
    "rfr_rmse = math.sqrt(mean_squared_error(y_test, y_predict))\n",
    "rfr_rmse"
   ]
  },
  {
   "cell_type": "code",
   "execution_count": 33,
   "id": "c27f575d",
   "metadata": {},
   "outputs": [
    {
     "data": {
      "text/plain": [
       "0.9986315512697059"
      ]
     },
     "execution_count": 33,
     "metadata": {},
     "output_type": "execute_result"
    }
   ],
   "source": [
    "# Calulate Adjusted r Square\n",
    "rfr_adjusted_r_squared = 1 - (1 - rf.score(X_test, y_test)) * (len(y_test) - 1) / (len(y_test) - X_test.shape[1] - 1)\n",
    "rfr_adjusted_r_squared"
   ]
  },
  {
   "cell_type": "markdown",
   "id": "60faca0a",
   "metadata": {},
   "source": [
    "## Gradient Boosting Regressor"
   ]
  },
  {
   "cell_type": "code",
   "execution_count": 34,
   "id": "a2792b97",
   "metadata": {},
   "outputs": [
    {
     "name": "stdout",
     "output_type": "stream",
     "text": [
      "R-squared score: 0.9978071337362485\n"
     ]
    }
   ],
   "source": [
    "from sklearn.ensemble import GradientBoostingRegressor\n",
    "from sklearn.metrics import r2_score\n",
    "\n",
    "# Create a Gradient Boosting regressor object\n",
    "gb = GradientBoostingRegressor(random_state=1234)\n",
    "\n",
    "# Fit the regressor on the training data\n",
    "gb.fit(X_train, y_train)\n",
    "\n",
    "# Predict on the test data\n",
    "y_predict = gb.predict(X_test)\n",
    "\n",
    "# Calculate the R-squared score\n",
    "gbrr2 = r2_score(y_test, y_predict)\n",
    "\n",
    "print(\"R-squared score:\", gbrr2)"
   ]
  },
  {
   "cell_type": "code",
   "execution_count": 35,
   "id": "aa05aa95",
   "metadata": {},
   "outputs": [
    {
     "data": {
      "text/plain": [
       "10.530961201904683"
      ]
     },
     "execution_count": 35,
     "metadata": {},
     "output_type": "execute_result"
    }
   ],
   "source": [
    "# Calculate the errors using RMSE\n",
    "from sklearn.metrics import mean_squared_error\n",
    "import math\n",
    "gbr_rmse = math.sqrt(mean_squared_error(y_test, y_predict))\n",
    "gbr_rmse"
   ]
  },
  {
   "cell_type": "code",
   "execution_count": 36,
   "id": "d7f14b6d",
   "metadata": {},
   "outputs": [
    {
     "data": {
      "text/plain": [
       "0.9976648937623835"
      ]
     },
     "execution_count": 36,
     "metadata": {},
     "output_type": "execute_result"
    }
   ],
   "source": [
    "# Calulate Adjusted r Square\n",
    "gbr_adjusted_r_squared = 1-(1-gb.score(X_test, y_test))*(len(y_test)-1)/(len(y_test)-X_test.shape[1]-1)\n",
    "gbr_adjusted_r_squared"
   ]
  },
  {
   "cell_type": "code",
   "execution_count": 37,
   "id": "fbde5284",
   "metadata": {},
   "outputs": [],
   "source": [
    "import numpy as np"
   ]
  },
  {
   "cell_type": "code",
   "execution_count": 38,
   "id": "24ae84ed",
   "metadata": {
    "scrolled": true
   },
   "outputs": [
    {
     "name": "stdout",
     "output_type": "stream",
     "text": [
      "ML models results when Sales column as Target\n",
      "-----------------------------------------------------------------------------\n",
      "Algorithm                                     Score   Adjusted-r-Squared                 RMSE\n",
      "Linear Regression                0.8515996164897406   0.8419736456674535    86.63222153858523\n",
      "Decision Tree Regressor           0.998050314937326   0.9979238488792066    9.929883924868589\n",
      "Random Forest Regressor          0.9987149085527696   0.9986315512697059    8.061743131335707\n",
      "Gradient Boosting Regressor      0.9978071337362485   0.9976648937623835   10.530961201904683\n"
     ]
    }
   ],
   "source": [
    "print('ML models results when Sales column as Target')\n",
    "print('-----------------------------------------------------------------------------')\n",
    "print('Algorithm'.ljust(30), 'Score'.rjust(20), 'Adjusted-r-Squared'.rjust(20), 'RMSE'.rjust(20))\n",
    "print('Linear Regression'.ljust(30), str(lrrscore).rjust(20), str(lr_adjusted_r_squared).rjust(20), str(mlr_rmse).rjust(20))\n",
    "print('Decision Tree Regressor'.ljust(30), str(dtrrscore).rjust(20), str(dtr_adjusted_r_squared).rjust(20), str(dtr_rmse).rjust(20))\n",
    "print('Random Forest Regressor'.ljust(30), str(rfrr2).rjust(20),  str(rfr_adjusted_r_squared).rjust(20), str(rfr_rmse).rjust(20))\n",
    "print('Gradient Boosting Regressor'.ljust(30), str(gbrr2).rjust(20), str(gbr_adjusted_r_squared).rjust(20), str(gbr_rmse).rjust(20))"
   ]
  },
  {
   "cell_type": "code",
   "execution_count": null,
   "id": "fd408382",
   "metadata": {},
   "outputs": [],
   "source": []
  },
  {
   "cell_type": "code",
   "execution_count": null,
   "id": "e941bf76",
   "metadata": {},
   "outputs": [],
   "source": []
  }
 ],
 "metadata": {
  "kernelspec": {
   "display_name": "Python 3 (ipykernel)",
   "language": "python",
   "name": "python3"
  },
  "language_info": {
   "codemirror_mode": {
    "name": "ipython",
    "version": 3
   },
   "file_extension": ".py",
   "mimetype": "text/x-python",
   "name": "python",
   "nbconvert_exporter": "python",
   "pygments_lexer": "ipython3",
   "version": "3.9.13"
  }
 },
 "nbformat": 4,
 "nbformat_minor": 5
}
